{
 "cells": [
  {
   "cell_type": "code",
   "execution_count": 1,
   "id": "98497136",
   "metadata": {},
   "outputs": [],
   "source": [
    "listNumber = [3, 2, 5, 7, 9, 8, 6, 0, 1, 4]\n",
    "\n",
    "\n",
    "# The last digit number of my student ID is 4.\n",
    "\n"
   ]
  },
  {
   "cell_type": "code",
   "execution_count": 2,
   "id": "594dd17b",
   "metadata": {},
   "outputs": [],
   "source": [
    "def function1(listN):\n",
    "    \"\"\"\n",
    "    Parameter: listN\n",
    "    Return: sum of last three elements\n",
    "    \"\"\"\n",
    "\n",
    "    # extract last three elements from listN\n",
    "    last_three_elements = listN[-3:]\n",
    "\n",
    "    # get the sum of last three elements\n",
    "    sum_of_last_three_elements = sum(last_three_elements)\n",
    "\n",
    "    # return sum_of_last_three_elements\n",
    "    return sum_of_last_three_elements\n",
    "\n"
   ]
  },
  {
   "cell_type": "code",
   "execution_count": 3,
   "id": "29eb780d",
   "metadata": {},
   "outputs": [],
   "source": [
    "resultFromF1 = function1(listNumber)\n"
   ]
  },
  {
   "cell_type": "code",
   "execution_count": 4,
   "id": "23d7f0c3",
   "metadata": {},
   "outputs": [],
   "source": [
    "def function2(resultFromF1):\n",
    "    \"\"\"\n",
    "    Parameter: resultFromF1\n",
    "    Return: None\n",
    "\n",
    "    Displays unordered list of:\n",
    "    • Return value of function1 is {resultFromF1}\n",
    "    • User has three choices to guess the correct value\n",
    "    • User got the correct answer/User did not get the correct answer\n",
    "    \"\"\"\n",
    "\n",
    "    # variable to store status of user got the correct answer\n",
    "    user_got_correct = False\n",
    "    for i in range(3):\n",
    "        # get user input\n",
    "        user_input = input(\"Guess the correct value: \")\n",
    "        try:\n",
    "            # convert user input to int and compare with resultFromF1\n",
    "            if int(user_input) == resultFromF1:\n",
    "                user_got_correct = True\n",
    "        except:\n",
    "            # if cannot convert to int, let it be\n",
    "            pass\n",
    "\n",
    "    print(f\"• Return value of function1 is {resultFromF1}\")\n",
    "    print(f\"• User has three choices to guess the correct value\")\n",
    "    if user_got_correct:\n",
    "        print(f\"• User got the correct answer\")\n",
    "    else:\n",
    "        print(f\"• User did not get the correct answer\")\n"
   ]
  },
  {
   "cell_type": "code",
   "execution_count": 5,
   "id": "de887921",
   "metadata": {},
   "outputs": [
    {
     "name": "stdout",
     "output_type": "stream",
     "text": [
      "Guess the correct value: 21\n",
      "Guess the correct value: 23\n",
      "Guess the correct value: 5\n",
      "• Return value of function1 is 5\n",
      "• User has three choices to guess the correct value\n",
      "• User got the correct answer\n"
     ]
    }
   ],
   "source": [
    "function2(resultFromF1)\n"
   ]
  }
 ],
 "metadata": {
  "kernelspec": {
   "display_name": "Python 3 (ipykernel)",
   "language": "python",
   "name": "python3"
  },
  "language_info": {
   "codemirror_mode": {
    "name": "ipython",
    "version": 3
   },
   "file_extension": ".py",
   "mimetype": "text/x-python",
   "name": "python",
   "nbconvert_exporter": "python",
   "pygments_lexer": "ipython3",
   "version": "3.9.17"
  }
 },
 "nbformat": 4,
 "nbformat_minor": 5
}
